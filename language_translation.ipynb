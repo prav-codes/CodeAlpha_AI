{
  "nbformat": 4,
  "nbformat_minor": 0,
  "metadata": {
    "colab": {
      "provenance": [],
      "authorship_tag": "ABX9TyPVGFkrUMmJ/4AteIB8DuE9",
      "include_colab_link": true
    },
    "kernelspec": {
      "name": "python3",
      "display_name": "Python 3"
    },
    "language_info": {
      "name": "python"
    }
  },
  "cells": [
    {
      "cell_type": "markdown",
      "metadata": {
        "id": "view-in-github",
        "colab_type": "text"
      },
      "source": [
        "<a href=\"https://colab.research.google.com/github/prav-codes/CodeAlpha_AI/blob/main/language_translation.ipynb\" target=\"_parent\"><img src=\"https://colab.research.google.com/assets/colab-badge.svg\" alt=\"Open In Colab\"/></a>"
      ]
    },
    {
      "cell_type": "code",
      "execution_count": 12,
      "metadata": {
        "colab": {
          "base_uri": "https://localhost:8080/",
          "height": 304
        },
        "id": "hTKRMugv3bUg",
        "outputId": "1805f55c-7ede-408c-fcc4-b47ac6a49186"
      },
      "outputs": [
        {
          "name": "stdout",
          "output_type": "stream",
          "text": [
            "Welcome to Simple Translation Tool!\n",
            "\n",
            "Available languages:\n",
            "Afrikaans, Albanian, Amharic, Arabic, Armenian, Azerbaijani, Basque, Belarusian, Bengali, Bosnian, Bulgarian, Catalan, Cebuano, Chichewa, Chinese (Simplified), Chinese (Traditional), Corsican, Croatian, Czech, Danish, Dutch, English, Esperanto, Estonian, Filipino, Finnish, French, Frisian, Galician, Georgian, German, Greek, Gujarati, Haitian Creole, Hausa, Hawaiian, Hebrew, Hebrew, Hindi, Hmong, Hungarian, Icelandic, Igbo, Indonesian, Irish, Italian, Japanese, Javanese, Kannada, Kazakh, Khmer, Korean, Kurdish (Kurmanji), Kyrgyz, Lao, Latin, Latvian, Lithuanian, Luxembourgish, Macedonian, Malagasy, Malay, Malayalam, Maltese, Maori, Marathi, Mongolian, Myanmar (Burmese), Nepali, Norwegian, Odia, Pashto, Persian, Polish, Portuguese, Punjabi, Romanian, Russian, Samoan, Scots Gaelic, Serbian, Sesotho, Shona, Sindhi, Sinhala, Slovak, Slovenian, Somali, Spanish, Sundanese, Swahili, Swedish, Tajik, Tamil, Telugu, Thai, Turkish, Ukrainian, Urdu, Uyghur, Uzbek, Vietnamese, Welsh, Xhosa, Yiddish, Yoruba, Zulu, \n",
            "\n",
            "Enter source language (e.g. english): english\n",
            "Enter target language (e.g. spanish): spanish\n",
            "Enter text to translate: how are you\n",
            "\n",
            "Translated text (Spanish): Cómo estás\n",
            "\n",
            "Do you want to hear the translation? (yes/no): yes\n"
          ]
        },
        {
          "output_type": "display_data",
          "data": {
            "text/plain": [
              "<IPython.lib.display.Audio object>"
            ],
            "text/html": [
              "\n",
              "                <audio  controls=\"controls\" autoplay=\"autoplay\">\n",
              "                    <source src=\"data:audio/mpeg;base64,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\" type=\"audio/mpeg\" />\n",
              "                    Your browser does not support the audio element.\n",
              "                </audio>\n",
              "              "
            ]
          },
          "metadata": {}
        }
      ],
      "source": [
        "\n",
        "!pip install googletrans==4.0.0-rc1 gTTS --quiet\n",
        "\n",
        "from googletrans import Translator, LANGUAGES\n",
        "from gtts import gTTS\n",
        "from IPython.display import Audio, display\n",
        "\n",
        "def list_languages():\n",
        "    print(\"Available languages:\")\n",
        "    for lang in sorted(LANGUAGES.values()):\n",
        "        print(lang.title(), end=', ')\n",
        "    print('\\n')\n",
        "\n",
        "def get_lang_code(lang_name):\n",
        "    for code, name in LANGUAGES.items():\n",
        "        if name.lower() == lang_name.lower():\n",
        "            return code\n",
        "    return None\n",
        "\n",
        "def translate_text(text, src_lang_code, tgt_lang_code):\n",
        "    translator = Translator()\n",
        "    try:\n",
        "        translated = translator.translate(text, src=src_lang_code, dest=tgt_lang_code)\n",
        "        return translated.text\n",
        "    except Exception as e:\n",
        "        print(\"Error during translation:\", e)\n",
        "        return None\n",
        "\n",
        "def speak_text(text, lang_code):\n",
        "    try:\n",
        "        tts = gTTS(text=text, lang=lang_code)\n",
        "        tts.save(\"output.mp3\")\n",
        "        display(Audio(\"output.mp3\", autoplay=True))\n",
        "    except Exception as e:\n",
        "        print(\"Error during TTS:\", e)\n",
        "\n",
        "\n",
        "print(\"Welcome to Simple Translation Tool!\\n\")\n",
        "list_languages()\n",
        "\n",
        "source_lang = input(\"Enter source language (e.g. english): \").strip()\n",
        "target_lang = input(\"Enter target language (e.g. spanish): \").strip()\n",
        "text = input(\"Enter text to translate: \").strip()\n",
        "\n",
        "src_code = get_lang_code(source_lang)\n",
        "tgt_code = get_lang_code(target_lang)\n",
        "\n",
        "if not src_code:\n",
        "    print(f\"Source language '{source_lang}' not recognized.\")\n",
        "elif not tgt_code:\n",
        "    print(f\"Target language '{target_lang}' not recognized.\")\n",
        "else:\n",
        "    translated_text = translate_text(text, src_code, tgt_code)\n",
        "    if translated_text:\n",
        "        print(f\"\\nTranslated text ({target_lang.title()}): {translated_text}\\n\")\n",
        "        speak = input(\"Do you want to hear the translation? (yes/no): \").strip().lower()\n",
        "        if speak == \"yes\":\n",
        "            speak_text(translated_text, tgt_code)\n",
        "    else:\n",
        "        print(\"Failed to translate.\")\n",
        "\n",
        "\n",
        "\n",
        "\n"
      ]
    },
    {
      "cell_type": "code",
      "metadata": {
        "id": "08fb30a3"
      },
      "source": [],
      "execution_count": 7,
      "outputs": []
    },
    {
      "cell_type": "code",
      "source": [
        "\n",
        "\n"
      ],
      "metadata": {
        "id": "4Sop1Z9e4Uiq"
      },
      "execution_count": 8,
      "outputs": []
    },
    {
      "cell_type": "code",
      "source": [],
      "metadata": {
        "id": "HYcb3Nzy4vde"
      },
      "execution_count": 4,
      "outputs": []
    },
    {
      "cell_type": "code",
      "source": [
        "\n",
        "\n"
      ],
      "metadata": {
        "id": "_TwLfE2N5C2P"
      },
      "execution_count": 9,
      "outputs": []
    },
    {
      "cell_type": "code",
      "source": [
        "\n",
        "\n"
      ],
      "metadata": {
        "id": "AbmTrq3f5cud"
      },
      "execution_count": 10,
      "outputs": []
    },
    {
      "cell_type": "code",
      "source": [
        "\n"
      ],
      "metadata": {
        "id": "Vj4sshS95iuu"
      },
      "execution_count": 11,
      "outputs": []
    },
    {
      "cell_type": "code",
      "source": [
        "\n",
        "\n"
      ],
      "metadata": {
        "id": "RFzYdeLS5mqP"
      },
      "execution_count": 5,
      "outputs": []
    },
    {
      "cell_type": "code",
      "source": [],
      "metadata": {
        "id": "tgqa5a-T6n5H"
      },
      "execution_count": null,
      "outputs": []
    }
  ]
}